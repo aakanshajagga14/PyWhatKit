!pip install pywhatkit

import pywhatkit
pywhatkit.sendwhatmsg(' "Add phone no" ', 'Hello there', 13, 58)
