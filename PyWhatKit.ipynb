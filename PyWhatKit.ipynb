!pip install pywhatkit

import pywhatkit
pywhatkit.sendwhatmsg('+919899229363', 'Hello there', 13, 58)
